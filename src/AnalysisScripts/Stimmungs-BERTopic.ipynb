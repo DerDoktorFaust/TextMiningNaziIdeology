{
 "cells": [
  {
   "cell_type": "markdown",
   "id": "a9eebbea6367738c",
   "metadata": {},
   "source": [
    "# BERTopic Exploration of the Stimmmungs- und Lageberichte Database Files\n",
    "**Author:** Christopher Thomas Goodwin\n",
    "\n",
    "**Creation Date:** 2024.04.10\n",
    "\n",
    "**Summary:** Uses BERTopic modelling to explore the data of the NSHWE Stimmungs- und Lageberichte files"
   ]
  },
  {
   "cell_type": "code",
   "id": "2a32d9a89f70746f",
   "metadata": {
    "ExecuteTime": {
     "end_time": "2025-07-19T15:36:14.847814Z",
     "start_time": "2025-07-19T15:36:14.813998Z"
    }
   },
   "source": [
    "import platform\n",
    "from bertopic import BERTopic\n",
    "import json\n",
    "import pandas as pd\n",
    "from sklearn.feature_extraction.text import CountVectorizer\n",
    "from sklearn.feature_extraction.text import TfidfVectorizer\n",
    "import torch\n",
    "\n",
    "# Get stop words\n",
    "import nltk\n",
    "from nltk.corpus import stopwords\n",
    "nltk.download('stopwords')\n",
    "\n",
    "# Check if GPU acceleration is available and call appropriate libraries\n",
    "import GPUtil\n",
    "\n",
    "if len(GPUtil.getAvailable()) > 0:\n",
    "    from cuml.cluster import HDBSCAN\n",
    "    #from cuml.manifold import UMAP # GPU-based version of UMAP\n",
    "    from umap import UMAP # use CPU-based version of UMAP which is better for noisy or duplicate data\n",
    "    print(\"GPU engaged.\")\n",
    "\n",
    "    print(f\"CUDA available: {torch.cuda.is_available()}\")\n",
    "    print(f\"Current GPU device index: {torch.cuda.current_device()}\")\n",
    "    print(f\"Current GPU device name: {torch.cuda.get_device_name(torch.cuda.current_device())}\")\n",
    "    print(f\"Pytorch Cuda version: {torch.version.cuda}\")\n",
    "else:\n",
    "    from umap import UMAP\n",
    "    from hdbscan import HDBSCAN\n",
    "    print(\"No GPU engaged.\")"
   ],
   "outputs": [
    {
     "name": "stdout",
     "output_type": "stream",
     "text": [
      "GPU engaged.\n",
      "CUDA available: True\n",
      "Current GPU device index: 0\n",
      "Current GPU device name: NVIDIA GeForce RTX 5070 Ti\n",
      "Pytorch Cuda version: 12.9\n"
     ]
    },
    {
     "name": "stderr",
     "output_type": "stream",
     "text": [
      "[nltk_data] Downloading package stopwords to\n",
      "[nltk_data]     /home/cgoodwin/nltk_data...\n",
      "[nltk_data]   Package stopwords is already up-to-date!\n"
     ]
    }
   ],
   "execution_count": 7
  },
  {
   "cell_type": "code",
   "id": "7b681f81e40e3385",
   "metadata": {
    "ExecuteTime": {
     "end_time": "2025-07-19T15:36:20.359308Z",
     "start_time": "2025-07-19T15:36:20.189818Z"
    }
   },
   "source": [
    "# Check which platform user is on and set the data path accordingly\n",
    "print(f\"The Operating System is {platform.system()}\")\n",
    "\n",
    "if platform.system() == \"Linux\":\n",
    "    path = \"/home/cgoodwin/Documents/Programming/TextMiningNaziIdeology/data/json/stimmungs_data_sentences.json\"\n",
    "elif platform.system() == \"Darwin\":\n",
    "    path = \"/Users/cgoodwin/Programming Projects/TextMiningNaziIdeology/data/json/stimmungs_data_sentences.json\"\n",
    "else:\n",
    "    path = \"C:\\\\Users\\\\Christopher Goodwin\\\\Documents\\\\Programming Projects\\\\TextMiningNaziIdeology\\\\data\\\\json\\\\stimmungs_data_sentences.json\"\n",
    "    \n",
    "with open(path, \"r\", encoding=\"utf-8\") as f:\n",
    "    files = json.load(f)\n",
    "    # files loaded in as dictionary with strings of 0... length of files\n",
    "    \n",
    "    # we want just the textual data, the report from each entry\n",
    "    reports = []\n",
    "    for i in range(len(files)):\n",
    "        reports.append(files[str(i)][\"report\"]) # iterate through dictionary and append report\n",
    "\n",
    "print(\"File loaded.\")"
   ],
   "outputs": [
    {
     "name": "stdout",
     "output_type": "stream",
     "text": [
      "The Operating System is Linux\n",
      "File loaded.\n"
     ]
    }
   ],
   "execution_count": 8
  },
  {
   "cell_type": "code",
   "id": "ebe0c2b8c2936ce9",
   "metadata": {
    "ExecuteTime": {
     "end_time": "2025-07-19T15:36:22.460385Z",
     "start_time": "2025-07-19T15:36:22.457388Z"
    }
   },
   "source": [
    "# set up vectorizer for German stopwords\n",
    "german_stop_words = stopwords.words('german')\n",
    "additional_stop_words = [\"volk\", \"volksgemeinschaft\", \"1939\", \"1940\", \"1941\", \"1942\", \"1943\", \"1944\", \"1945\", \"deutsch\", \"bevölkerung\", \"ii\", \"iii\", \"iv\", \"v\", \"vi\", \"einzelmeldungen\", \"volksgenossen\", \"sei\", \"seien\", \"worden\", \"meldungen\", \"deutsche\", \"deutschen\", \"wegen\", \"wurde\", \"gif\", \"pro\", \"kg\", \"minusbox\", \"images\", \"rm\"]\n",
    "\n",
    "for i in range(0, 1946):\n",
    "    additional_stop_words.append(str(i))\n",
    "\n",
    "german_stop_words.extend(additional_stop_words)\n",
    "\n",
    "vectorizer_model = CountVectorizer(stop_words=german_stop_words)"
   ],
   "outputs": [],
   "execution_count": 9
  },
  {
   "cell_type": "code",
   "id": "1517a6c0066c782d",
   "metadata": {
    "ExecuteTime": {
     "end_time": "2025-07-19T15:36:25.005126Z",
     "start_time": "2025-07-19T15:36:25.002283Z"
    }
   },
   "source": [
    " # Adjust UMAP and HDBSCAN parameters\n",
    "umap_model = UMAP(n_components=5, n_neighbors=10, min_dist=0.2)\n",
    "hdbscan_model = HDBSCAN(min_samples=5, min_cluster_size=5, prediction_data=True)\n",
    "\n",
    "# Initialize BERTopic with adjusted models\n",
    "topic_model = BERTopic(umap_model=umap_model, hdbscan_model=hdbscan_model, embedding_model=\"paraphrase-multilingual-MiniLM-L12-v2\", language=\"multilingual\", vectorizer_model=vectorizer_model, verbose=True, nr_topics=15, top_n_words=10)"
   ],
   "outputs": [],
   "execution_count": 10
  },
  {
   "cell_type": "code",
   "id": "167cd9e1ea07ff4d",
   "metadata": {
    "ExecuteTime": {
     "end_time": "2025-07-19T15:37:35.310568Z",
     "start_time": "2025-07-19T15:36:26.750959Z"
    }
   },
   "source": [
    "topics, probs = topic_model.fit_transform(reports)"
   ],
   "outputs": [
    {
     "name": "stderr",
     "output_type": "stream",
     "text": [
      "2025-07-19 11:36:26,769 - BERTopic - Embedding - Transforming documents to embeddings.\n",
      "Batches: 100%|██████████| 3910/3910 [00:28<00:00, 139.48it/s]\n",
      "2025-07-19 11:36:57,543 - BERTopic - Embedding - Completed ✓\n",
      "2025-07-19 11:36:57,544 - BERTopic - Dimensionality - Fitting the dimensionality reduction algorithm\n",
      "2025-07-19 11:37:31,136 - BERTopic - Dimensionality - Completed ✓\n",
      "2025-07-19 11:37:31,147 - BERTopic - Cluster - Start clustering the reduced embeddings\n",
      "2025-07-19 11:37:33,154 - BERTopic - Cluster - Completed ✓\n",
      "2025-07-19 11:37:33,154 - BERTopic - Representation - Extracting topics using c-TF-IDF for topic reduction.\n",
      "2025-07-19 11:37:34,361 - BERTopic - Representation - Completed ✓\n",
      "2025-07-19 11:37:34,362 - BERTopic - Topic reduction - Reducing number of topics\n",
      "2025-07-19 11:37:34,442 - BERTopic - Representation - Fine-tuning topics using representation models.\n",
      "2025-07-19 11:37:35,247 - BERTopic - Representation - Completed ✓\n",
      "2025-07-19 11:37:35,255 - BERTopic - Topic reduction - Reduced number of topics from 1626 to 15\n"
     ]
    }
   ],
   "execution_count": 11
  },
  {
   "cell_type": "code",
   "id": "1968646d520c3872",
   "metadata": {
    "ExecuteTime": {
     "end_time": "2025-07-19T15:37:44.721517Z",
     "start_time": "2025-07-19T15:37:44.700750Z"
    }
   },
   "source": [
    "topic_model.get_topic_info()"
   ],
   "outputs": [
    {
     "data": {
      "text/plain": [
       "    Topic  Count                                               Name  \\\n",
       "0      -1  69725                     -1_hätten_besonders_mehr_immer   \n",
       "1       0  22127                      0_kirche_immer_mehr_besonders   \n",
       "2       1  11021                1_frankfurt_tschechen_juden_sowjets   \n",
       "3       2   9804                        2_heißt_zt_rundfunk_stimmen   \n",
       "4       3   5623                    3_bauern_kartoffeln_mehr_hätten   \n",
       "5       4   3384                  4_frauen_lehrer_wohnungen_schulen   \n",
       "6       5   1472                     5_sendung_musik_filme_künstler   \n",
       "7       6    826                 6_feiern_gut_veranstaltungen_feier   \n",
       "8       7    700                      7_000_stundenlohn_umsatz_etwa   \n",
       "9       8    199  8_weihnachten_weihnachtsfest_weihnachtszeit_we...   \n",
       "10      9    152                          9_uhr_monaten_tage_monate   \n",
       "11     10     31                10_recht_freiheit_mensch_natürliche   \n",
       "12     11     25  11_sport_leibesübungen_leibeserziehung_betrieb...   \n",
       "13     12     19  12_selbstmorde_tränen_selbstmordversuche_personen   \n",
       "14     13      5            13_bdm_mädelerziehung_chöre_führerinnen   \n",
       "\n",
       "                                       Representation  \\\n",
       "0   [hätten, besonders, mehr, immer, zeit, wurden,...   \n",
       "1   [kirche, immer, mehr, besonders, katholischen,...   \n",
       "2   [frankfurt, tschechen, juden, sowjets, tschech...   \n",
       "3   [heißt, zt, rundfunk, stimmen, bez, vo, kath, ...   \n",
       "4   [bauern, kartoffeln, mehr, hätten, obst, milch...   \n",
       "5   [frauen, lehrer, wohnungen, schulen, kinder, h...   \n",
       "6   [sendung, musik, filme, künstler, kunst, sendu...   \n",
       "7   [feiern, gut, veranstaltungen, feier, beteilig...   \n",
       "8   [000, stundenlohn, umsatz, etwa, einkommen, zt...   \n",
       "9   [weihnachten, weihnachtsfest, weihnachtszeit, ...   \n",
       "10  [uhr, monaten, tage, monate, wochen, fliegeral...   \n",
       "11  [recht, freiheit, mensch, natürliche, urrechte...   \n",
       "12  [sport, leibesübungen, leibeserziehung, betrie...   \n",
       "13  [selbstmorde, tränen, selbstmordversuche, pers...   \n",
       "14  [bdm, mädelerziehung, chöre, führerinnen, zusa...   \n",
       "\n",
       "                                  Representative_Docs  \n",
       "0   [V. Wirtschaft  Gefährdung der Frühjahrsbestel...  \n",
       "1   [Kirche gehandelt hätten“., Besonders in den k...  \n",
       "2   [B. Wien, Stuttgart, Karlsruhe, Braunschweig, ...  \n",
       "3    [So heißt es z., So heißt es z., So heißt es z.]  \n",
       "4   [Auch die Versorgung mit Kartoffeln würde imme...  \n",
       "5   [Besonders die jüngeren Frauen erreichten – wi...  \n",
       "6   [In der Sendung „Noten und Anekdoten“ habe bes...  \n",
       "7   [Zurückgeführt wird die geringe Beteiligung in...  \n",
       "8   [|  573.000  |  407.000  |  66.000  |  60.000 ...  \n",
       "9   [Der Wunsch, alle Familienangehörigen Weihnach...  \n",
       "10  [Für jeden etwas“ am 31.10. um 20.15 Uhr gefun...  \n",
       "11  [Alle Urrechte, die der Mensch hat, das Recht ...  \n",
       "12  [Das „Amt für Leibesübungen“ und das „Amt für ...  \n",
       "13  [Im einzelnen wurden gezählt (die Zahlen aus d...  \n",
       "14  [Das gleiche gilt für den BDM., Abgesehen von ...  "
      ],
      "text/html": [
       "<div>\n",
       "<style scoped>\n",
       "    .dataframe tbody tr th:only-of-type {\n",
       "        vertical-align: middle;\n",
       "    }\n",
       "\n",
       "    .dataframe tbody tr th {\n",
       "        vertical-align: top;\n",
       "    }\n",
       "\n",
       "    .dataframe thead th {\n",
       "        text-align: right;\n",
       "    }\n",
       "</style>\n",
       "<table border=\"1\" class=\"dataframe\">\n",
       "  <thead>\n",
       "    <tr style=\"text-align: right;\">\n",
       "      <th></th>\n",
       "      <th>Topic</th>\n",
       "      <th>Count</th>\n",
       "      <th>Name</th>\n",
       "      <th>Representation</th>\n",
       "      <th>Representative_Docs</th>\n",
       "    </tr>\n",
       "  </thead>\n",
       "  <tbody>\n",
       "    <tr>\n",
       "      <th>0</th>\n",
       "      <td>-1</td>\n",
       "      <td>69725</td>\n",
       "      <td>-1_hätten_besonders_mehr_immer</td>\n",
       "      <td>[hätten, besonders, mehr, immer, zeit, wurden,...</td>\n",
       "      <td>[V. Wirtschaft  Gefährdung der Frühjahrsbestel...</td>\n",
       "    </tr>\n",
       "    <tr>\n",
       "      <th>1</th>\n",
       "      <td>0</td>\n",
       "      <td>22127</td>\n",
       "      <td>0_kirche_immer_mehr_besonders</td>\n",
       "      <td>[kirche, immer, mehr, besonders, katholischen,...</td>\n",
       "      <td>[Kirche gehandelt hätten“., Besonders in den k...</td>\n",
       "    </tr>\n",
       "    <tr>\n",
       "      <th>2</th>\n",
       "      <td>1</td>\n",
       "      <td>11021</td>\n",
       "      <td>1_frankfurt_tschechen_juden_sowjets</td>\n",
       "      <td>[frankfurt, tschechen, juden, sowjets, tschech...</td>\n",
       "      <td>[B. Wien, Stuttgart, Karlsruhe, Braunschweig, ...</td>\n",
       "    </tr>\n",
       "    <tr>\n",
       "      <th>3</th>\n",
       "      <td>2</td>\n",
       "      <td>9804</td>\n",
       "      <td>2_heißt_zt_rundfunk_stimmen</td>\n",
       "      <td>[heißt, zt, rundfunk, stimmen, bez, vo, kath, ...</td>\n",
       "      <td>[So heißt es z., So heißt es z., So heißt es z.]</td>\n",
       "    </tr>\n",
       "    <tr>\n",
       "      <th>4</th>\n",
       "      <td>3</td>\n",
       "      <td>5623</td>\n",
       "      <td>3_bauern_kartoffeln_mehr_hätten</td>\n",
       "      <td>[bauern, kartoffeln, mehr, hätten, obst, milch...</td>\n",
       "      <td>[Auch die Versorgung mit Kartoffeln würde imme...</td>\n",
       "    </tr>\n",
       "    <tr>\n",
       "      <th>5</th>\n",
       "      <td>4</td>\n",
       "      <td>3384</td>\n",
       "      <td>4_frauen_lehrer_wohnungen_schulen</td>\n",
       "      <td>[frauen, lehrer, wohnungen, schulen, kinder, h...</td>\n",
       "      <td>[Besonders die jüngeren Frauen erreichten – wi...</td>\n",
       "    </tr>\n",
       "    <tr>\n",
       "      <th>6</th>\n",
       "      <td>5</td>\n",
       "      <td>1472</td>\n",
       "      <td>5_sendung_musik_filme_künstler</td>\n",
       "      <td>[sendung, musik, filme, künstler, kunst, sendu...</td>\n",
       "      <td>[In der Sendung „Noten und Anekdoten“ habe bes...</td>\n",
       "    </tr>\n",
       "    <tr>\n",
       "      <th>7</th>\n",
       "      <td>6</td>\n",
       "      <td>826</td>\n",
       "      <td>6_feiern_gut_veranstaltungen_feier</td>\n",
       "      <td>[feiern, gut, veranstaltungen, feier, beteilig...</td>\n",
       "      <td>[Zurückgeführt wird die geringe Beteiligung in...</td>\n",
       "    </tr>\n",
       "    <tr>\n",
       "      <th>8</th>\n",
       "      <td>7</td>\n",
       "      <td>700</td>\n",
       "      <td>7_000_stundenlohn_umsatz_etwa</td>\n",
       "      <td>[000, stundenlohn, umsatz, etwa, einkommen, zt...</td>\n",
       "      <td>[|  573.000  |  407.000  |  66.000  |  60.000 ...</td>\n",
       "    </tr>\n",
       "    <tr>\n",
       "      <th>9</th>\n",
       "      <td>8</td>\n",
       "      <td>199</td>\n",
       "      <td>8_weihnachten_weihnachtsfest_weihnachtszeit_we...</td>\n",
       "      <td>[weihnachten, weihnachtsfest, weihnachtszeit, ...</td>\n",
       "      <td>[Der Wunsch, alle Familienangehörigen Weihnach...</td>\n",
       "    </tr>\n",
       "    <tr>\n",
       "      <th>10</th>\n",
       "      <td>9</td>\n",
       "      <td>152</td>\n",
       "      <td>9_uhr_monaten_tage_monate</td>\n",
       "      <td>[uhr, monaten, tage, monate, wochen, fliegeral...</td>\n",
       "      <td>[Für jeden etwas“ am 31.10. um 20.15 Uhr gefun...</td>\n",
       "    </tr>\n",
       "    <tr>\n",
       "      <th>11</th>\n",
       "      <td>10</td>\n",
       "      <td>31</td>\n",
       "      <td>10_recht_freiheit_mensch_natürliche</td>\n",
       "      <td>[recht, freiheit, mensch, natürliche, urrechte...</td>\n",
       "      <td>[Alle Urrechte, die der Mensch hat, das Recht ...</td>\n",
       "    </tr>\n",
       "    <tr>\n",
       "      <th>12</th>\n",
       "      <td>11</td>\n",
       "      <td>25</td>\n",
       "      <td>11_sport_leibesübungen_leibeserziehung_betrieb...</td>\n",
       "      <td>[sport, leibesübungen, leibeserziehung, betrie...</td>\n",
       "      <td>[Das „Amt für Leibesübungen“ und das „Amt für ...</td>\n",
       "    </tr>\n",
       "    <tr>\n",
       "      <th>13</th>\n",
       "      <td>12</td>\n",
       "      <td>19</td>\n",
       "      <td>12_selbstmorde_tränen_selbstmordversuche_personen</td>\n",
       "      <td>[selbstmorde, tränen, selbstmordversuche, pers...</td>\n",
       "      <td>[Im einzelnen wurden gezählt (die Zahlen aus d...</td>\n",
       "    </tr>\n",
       "    <tr>\n",
       "      <th>14</th>\n",
       "      <td>13</td>\n",
       "      <td>5</td>\n",
       "      <td>13_bdm_mädelerziehung_chöre_führerinnen</td>\n",
       "      <td>[bdm, mädelerziehung, chöre, führerinnen, zusa...</td>\n",
       "      <td>[Das gleiche gilt für den BDM., Abgesehen von ...</td>\n",
       "    </tr>\n",
       "  </tbody>\n",
       "</table>\n",
       "</div>"
      ]
     },
     "execution_count": 12,
     "metadata": {},
     "output_type": "execute_result"
    }
   ],
   "execution_count": 12
  },
  {
   "cell_type": "code",
   "id": "2491dccec5f0d18c",
   "metadata": {
    "ExecuteTime": {
     "end_time": "2025-07-19T15:37:48.416234Z",
     "start_time": "2025-07-19T15:37:48.413559Z"
    }
   },
   "source": [
    "topic_model.get_topic(0)"
   ],
   "outputs": [
    {
     "data": {
      "text/plain": [
       "[('kirche', np.float64(0.017444743999783414)),\n",
       " ('immer', np.float64(0.013086768301109959)),\n",
       " ('mehr', np.float64(0.011883179989136404)),\n",
       " ('besonders', np.float64(0.010746610603440222)),\n",
       " ('katholischen', np.float64(0.009844580393254268)),\n",
       " ('vielfach', np.float64(0.009703435079817791)),\n",
       " ('hätten', np.float64(0.009577731805176697)),\n",
       " ('italien', np.float64(0.008937926461518234)),\n",
       " ('zeit', np.float64(0.00879477540551662)),\n",
       " ('könne', np.float64(0.00850744917601348))]"
      ]
     },
     "execution_count": 13,
     "metadata": {},
     "output_type": "execute_result"
    }
   ],
   "execution_count": 13
  },
  {
   "cell_type": "code",
   "id": "ed3e224f6c7e6b73",
   "metadata": {
    "ExecuteTime": {
     "end_time": "2025-07-19T15:37:52.493857Z",
     "start_time": "2025-07-19T15:37:51.595723Z"
    }
   },
   "source": [
    "topic_model.visualize_barchart()"
   ],
   "outputs": [
    {
     "data": {
      "application/vnd.plotly.v1+json": {
       "data": [
        {
         "marker": {
          "color": "#D55E00"
         },
         "orientation": "h",
         "x": [
          0.009844580393254268,
          0.010746610603440222,
          0.011883179989136404,
          0.013086768301109959,
          0.017444743999783414
         ],
         "y": [
          "katholischen  ",
          "besonders  ",
          "mehr  ",
          "immer  ",
          "kirche  "
         ],
         "type": "bar",
         "xaxis": "x",
         "yaxis": "y"
        },
        {
         "marker": {
          "color": "#0072B2"
         },
         "orientation": "h",
         "x": [
          0.015093800161101767,
          0.015968109221000268,
          0.01628032264353252,
          0.017156907278532096,
          0.02172691886992327
         ],
         "y": [
          "tschechischen  ",
          "sowjets  ",
          "juden  ",
          "tschechen  ",
          "frankfurt  "
         ],
         "type": "bar",
         "xaxis": "x2",
         "yaxis": "y2"
        },
        {
         "marker": {
          "color": "#CC79A7"
         },
         "orientation": "h",
         "x": [
          0.031574827332067915,
          0.03386917811266642,
          0.03962453805696379,
          0.04179223044435345,
          0.053536212976193175
         ],
         "y": [
          "bez  ",
          "stimmen  ",
          "rundfunk  ",
          "zt  ",
          "heißt  "
         ],
         "type": "bar",
         "xaxis": "x3",
         "yaxis": "y3"
        },
        {
         "marker": {
          "color": "#E69F00"
         },
         "orientation": "h",
         "x": [
          0.013854214007479741,
          0.013926449819843607,
          0.014478191163087495,
          0.020413950088365145,
          0.0220434472575383
         ],
         "y": [
          "obst  ",
          "hätten  ",
          "mehr  ",
          "kartoffeln  ",
          "bauern  "
         ],
         "type": "bar",
         "xaxis": "x4",
         "yaxis": "y4"
        },
        {
         "marker": {
          "color": "#56B4E9"
         },
         "orientation": "h",
         "x": [
          0.017345410284825787,
          0.017374849756270645,
          0.02065617884439608,
          0.022207435594737337,
          0.04638086391850531
         ],
         "y": [
          "kinder  ",
          "schulen  ",
          "wohnungen  ",
          "lehrer  ",
          "frauen  "
         ],
         "type": "bar",
         "xaxis": "x5",
         "yaxis": "y5"
        },
        {
         "marker": {
          "color": "#009E73"
         },
         "orientation": "h",
         "x": [
          0.027459933838854273,
          0.029410014823354116,
          0.030456831013514363,
          0.03515260044700209,
          0.0370943104478173
         ],
         "y": [
          "kunst  ",
          "künstler  ",
          "filme  ",
          "musik  ",
          "sendung  "
         ],
         "type": "bar",
         "xaxis": "x6",
         "yaxis": "y6"
        },
        {
         "marker": {
          "color": "#F0E442"
         },
         "orientation": "h",
         "x": [
          0.020536156157218988,
          0.022366432813299576,
          0.02293881199092043,
          0.02417546827876546,
          0.07226233305487494
         ],
         "y": [
          "beteiligung  ",
          "feier  ",
          "veranstaltungen  ",
          "gut  ",
          "feiern  "
         ],
         "type": "bar",
         "xaxis": "x7",
         "yaxis": "y7"
        },
        {
         "marker": {
          "color": "#D55E00"
         },
         "orientation": "h",
         "x": [
          0.04110320377917177,
          0.043487776321733236,
          0.04488426296528675,
          0.04613038057661119,
          0.15319473449554283
         ],
         "y": [
          "einkommen  ",
          "etwa  ",
          "umsatz  ",
          "stundenlohn  ",
          "000  "
         ],
         "type": "bar",
         "xaxis": "x8",
         "yaxis": "y8"
        }
       ],
       "layout": {
        "template": {
         "data": {
          "barpolar": [
           {
            "marker": {
             "line": {
              "color": "white",
              "width": 0.5
             },
             "pattern": {
              "fillmode": "overlay",
              "size": 10,
              "solidity": 0.2
             }
            },
            "type": "barpolar"
           }
          ],
          "bar": [
           {
            "error_x": {
             "color": "#2a3f5f"
            },
            "error_y": {
             "color": "#2a3f5f"
            },
            "marker": {
             "line": {
              "color": "white",
              "width": 0.5
             },
             "pattern": {
              "fillmode": "overlay",
              "size": 10,
              "solidity": 0.2
             }
            },
            "type": "bar"
           }
          ],
          "carpet": [
           {
            "aaxis": {
             "endlinecolor": "#2a3f5f",
             "gridcolor": "#C8D4E3",
             "linecolor": "#C8D4E3",
             "minorgridcolor": "#C8D4E3",
             "startlinecolor": "#2a3f5f"
            },
            "baxis": {
             "endlinecolor": "#2a3f5f",
             "gridcolor": "#C8D4E3",
             "linecolor": "#C8D4E3",
             "minorgridcolor": "#C8D4E3",
             "startlinecolor": "#2a3f5f"
            },
            "type": "carpet"
           }
          ],
          "choropleth": [
           {
            "colorbar": {
             "outlinewidth": 0,
             "ticks": ""
            },
            "type": "choropleth"
           }
          ],
          "contourcarpet": [
           {
            "colorbar": {
             "outlinewidth": 0,
             "ticks": ""
            },
            "type": "contourcarpet"
           }
          ],
          "contour": [
           {
            "colorbar": {
             "outlinewidth": 0,
             "ticks": ""
            },
            "colorscale": [
             [
              0.0,
              "#0d0887"
             ],
             [
              0.1111111111111111,
              "#46039f"
             ],
             [
              0.2222222222222222,
              "#7201a8"
             ],
             [
              0.3333333333333333,
              "#9c179e"
             ],
             [
              0.4444444444444444,
              "#bd3786"
             ],
             [
              0.5555555555555556,
              "#d8576b"
             ],
             [
              0.6666666666666666,
              "#ed7953"
             ],
             [
              0.7777777777777778,
              "#fb9f3a"
             ],
             [
              0.8888888888888888,
              "#fdca26"
             ],
             [
              1.0,
              "#f0f921"
             ]
            ],
            "type": "contour"
           }
          ],
          "heatmap": [
           {
            "colorbar": {
             "outlinewidth": 0,
             "ticks": ""
            },
            "colorscale": [
             [
              0.0,
              "#0d0887"
             ],
             [
              0.1111111111111111,
              "#46039f"
             ],
             [
              0.2222222222222222,
              "#7201a8"
             ],
             [
              0.3333333333333333,
              "#9c179e"
             ],
             [
              0.4444444444444444,
              "#bd3786"
             ],
             [
              0.5555555555555556,
              "#d8576b"
             ],
             [
              0.6666666666666666,
              "#ed7953"
             ],
             [
              0.7777777777777778,
              "#fb9f3a"
             ],
             [
              0.8888888888888888,
              "#fdca26"
             ],
             [
              1.0,
              "#f0f921"
             ]
            ],
            "type": "heatmap"
           }
          ],
          "histogram2dcontour": [
           {
            "colorbar": {
             "outlinewidth": 0,
             "ticks": ""
            },
            "colorscale": [
             [
              0.0,
              "#0d0887"
             ],
             [
              0.1111111111111111,
              "#46039f"
             ],
             [
              0.2222222222222222,
              "#7201a8"
             ],
             [
              0.3333333333333333,
              "#9c179e"
             ],
             [
              0.4444444444444444,
              "#bd3786"
             ],
             [
              0.5555555555555556,
              "#d8576b"
             ],
             [
              0.6666666666666666,
              "#ed7953"
             ],
             [
              0.7777777777777778,
              "#fb9f3a"
             ],
             [
              0.8888888888888888,
              "#fdca26"
             ],
             [
              1.0,
              "#f0f921"
             ]
            ],
            "type": "histogram2dcontour"
           }
          ],
          "histogram2d": [
           {
            "colorbar": {
             "outlinewidth": 0,
             "ticks": ""
            },
            "colorscale": [
             [
              0.0,
              "#0d0887"
             ],
             [
              0.1111111111111111,
              "#46039f"
             ],
             [
              0.2222222222222222,
              "#7201a8"
             ],
             [
              0.3333333333333333,
              "#9c179e"
             ],
             [
              0.4444444444444444,
              "#bd3786"
             ],
             [
              0.5555555555555556,
              "#d8576b"
             ],
             [
              0.6666666666666666,
              "#ed7953"
             ],
             [
              0.7777777777777778,
              "#fb9f3a"
             ],
             [
              0.8888888888888888,
              "#fdca26"
             ],
             [
              1.0,
              "#f0f921"
             ]
            ],
            "type": "histogram2d"
           }
          ],
          "histogram": [
           {
            "marker": {
             "pattern": {
              "fillmode": "overlay",
              "size": 10,
              "solidity": 0.2
             }
            },
            "type": "histogram"
           }
          ],
          "mesh3d": [
           {
            "colorbar": {
             "outlinewidth": 0,
             "ticks": ""
            },
            "type": "mesh3d"
           }
          ],
          "parcoords": [
           {
            "line": {
             "colorbar": {
              "outlinewidth": 0,
              "ticks": ""
             }
            },
            "type": "parcoords"
           }
          ],
          "pie": [
           {
            "automargin": true,
            "type": "pie"
           }
          ],
          "scatter3d": [
           {
            "line": {
             "colorbar": {
              "outlinewidth": 0,
              "ticks": ""
             }
            },
            "marker": {
             "colorbar": {
              "outlinewidth": 0,
              "ticks": ""
             }
            },
            "type": "scatter3d"
           }
          ],
          "scattercarpet": [
           {
            "marker": {
             "colorbar": {
              "outlinewidth": 0,
              "ticks": ""
             }
            },
            "type": "scattercarpet"
           }
          ],
          "scattergeo": [
           {
            "marker": {
             "colorbar": {
              "outlinewidth": 0,
              "ticks": ""
             }
            },
            "type": "scattergeo"
           }
          ],
          "scattergl": [
           {
            "marker": {
             "colorbar": {
              "outlinewidth": 0,
              "ticks": ""
             }
            },
            "type": "scattergl"
           }
          ],
          "scattermapbox": [
           {
            "marker": {
             "colorbar": {
              "outlinewidth": 0,
              "ticks": ""
             }
            },
            "type": "scattermapbox"
           }
          ],
          "scattermap": [
           {
            "marker": {
             "colorbar": {
              "outlinewidth": 0,
              "ticks": ""
             }
            },
            "type": "scattermap"
           }
          ],
          "scatterpolargl": [
           {
            "marker": {
             "colorbar": {
              "outlinewidth": 0,
              "ticks": ""
             }
            },
            "type": "scatterpolargl"
           }
          ],
          "scatterpolar": [
           {
            "marker": {
             "colorbar": {
              "outlinewidth": 0,
              "ticks": ""
             }
            },
            "type": "scatterpolar"
           }
          ],
          "scatter": [
           {
            "fillpattern": {
             "fillmode": "overlay",
             "size": 10,
             "solidity": 0.2
            },
            "type": "scatter"
           }
          ],
          "scatterternary": [
           {
            "marker": {
             "colorbar": {
              "outlinewidth": 0,
              "ticks": ""
             }
            },
            "type": "scatterternary"
           }
          ],
          "surface": [
           {
            "colorbar": {
             "outlinewidth": 0,
             "ticks": ""
            },
            "colorscale": [
             [
              0.0,
              "#0d0887"
             ],
             [
              0.1111111111111111,
              "#46039f"
             ],
             [
              0.2222222222222222,
              "#7201a8"
             ],
             [
              0.3333333333333333,
              "#9c179e"
             ],
             [
              0.4444444444444444,
              "#bd3786"
             ],
             [
              0.5555555555555556,
              "#d8576b"
             ],
             [
              0.6666666666666666,
              "#ed7953"
             ],
             [
              0.7777777777777778,
              "#fb9f3a"
             ],
             [
              0.8888888888888888,
              "#fdca26"
             ],
             [
              1.0,
              "#f0f921"
             ]
            ],
            "type": "surface"
           }
          ],
          "table": [
           {
            "cells": {
             "fill": {
              "color": "#EBF0F8"
             },
             "line": {
              "color": "white"
             }
            },
            "header": {
             "fill": {
              "color": "#C8D4E3"
             },
             "line": {
              "color": "white"
             }
            },
            "type": "table"
           }
          ]
         },
         "layout": {
          "annotationdefaults": {
           "arrowcolor": "#2a3f5f",
           "arrowhead": 0,
           "arrowwidth": 1
          },
          "autotypenumbers": "strict",
          "coloraxis": {
           "colorbar": {
            "outlinewidth": 0,
            "ticks": ""
           }
          },
          "colorscale": {
           "diverging": [
            [
             0,
             "#8e0152"
            ],
            [
             0.1,
             "#c51b7d"
            ],
            [
             0.2,
             "#de77ae"
            ],
            [
             0.3,
             "#f1b6da"
            ],
            [
             0.4,
             "#fde0ef"
            ],
            [
             0.5,
             "#f7f7f7"
            ],
            [
             0.6,
             "#e6f5d0"
            ],
            [
             0.7,
             "#b8e186"
            ],
            [
             0.8,
             "#7fbc41"
            ],
            [
             0.9,
             "#4d9221"
            ],
            [
             1,
             "#276419"
            ]
           ],
           "sequential": [
            [
             0.0,
             "#0d0887"
            ],
            [
             0.1111111111111111,
             "#46039f"
            ],
            [
             0.2222222222222222,
             "#7201a8"
            ],
            [
             0.3333333333333333,
             "#9c179e"
            ],
            [
             0.4444444444444444,
             "#bd3786"
            ],
            [
             0.5555555555555556,
             "#d8576b"
            ],
            [
             0.6666666666666666,
             "#ed7953"
            ],
            [
             0.7777777777777778,
             "#fb9f3a"
            ],
            [
             0.8888888888888888,
             "#fdca26"
            ],
            [
             1.0,
             "#f0f921"
            ]
           ],
           "sequentialminus": [
            [
             0.0,
             "#0d0887"
            ],
            [
             0.1111111111111111,
             "#46039f"
            ],
            [
             0.2222222222222222,
             "#7201a8"
            ],
            [
             0.3333333333333333,
             "#9c179e"
            ],
            [
             0.4444444444444444,
             "#bd3786"
            ],
            [
             0.5555555555555556,
             "#d8576b"
            ],
            [
             0.6666666666666666,
             "#ed7953"
            ],
            [
             0.7777777777777778,
             "#fb9f3a"
            ],
            [
             0.8888888888888888,
             "#fdca26"
            ],
            [
             1.0,
             "#f0f921"
            ]
           ]
          },
          "colorway": [
           "#636efa",
           "#EF553B",
           "#00cc96",
           "#ab63fa",
           "#FFA15A",
           "#19d3f3",
           "#FF6692",
           "#B6E880",
           "#FF97FF",
           "#FECB52"
          ],
          "font": {
           "color": "#2a3f5f"
          },
          "geo": {
           "bgcolor": "white",
           "lakecolor": "white",
           "landcolor": "white",
           "showlakes": true,
           "showland": true,
           "subunitcolor": "#C8D4E3"
          },
          "hoverlabel": {
           "align": "left"
          },
          "hovermode": "closest",
          "mapbox": {
           "style": "light"
          },
          "paper_bgcolor": "white",
          "plot_bgcolor": "white",
          "polar": {
           "angularaxis": {
            "gridcolor": "#EBF0F8",
            "linecolor": "#EBF0F8",
            "ticks": ""
           },
           "bgcolor": "white",
           "radialaxis": {
            "gridcolor": "#EBF0F8",
            "linecolor": "#EBF0F8",
            "ticks": ""
           }
          },
          "scene": {
           "xaxis": {
            "backgroundcolor": "white",
            "gridcolor": "#DFE8F3",
            "gridwidth": 2,
            "linecolor": "#EBF0F8",
            "showbackground": true,
            "ticks": "",
            "zerolinecolor": "#EBF0F8"
           },
           "yaxis": {
            "backgroundcolor": "white",
            "gridcolor": "#DFE8F3",
            "gridwidth": 2,
            "linecolor": "#EBF0F8",
            "showbackground": true,
            "ticks": "",
            "zerolinecolor": "#EBF0F8"
           },
           "zaxis": {
            "backgroundcolor": "white",
            "gridcolor": "#DFE8F3",
            "gridwidth": 2,
            "linecolor": "#EBF0F8",
            "showbackground": true,
            "ticks": "",
            "zerolinecolor": "#EBF0F8"
           }
          },
          "shapedefaults": {
           "line": {
            "color": "#2a3f5f"
           }
          },
          "ternary": {
           "aaxis": {
            "gridcolor": "#DFE8F3",
            "linecolor": "#A2B1C6",
            "ticks": ""
           },
           "baxis": {
            "gridcolor": "#DFE8F3",
            "linecolor": "#A2B1C6",
            "ticks": ""
           },
           "bgcolor": "white",
           "caxis": {
            "gridcolor": "#DFE8F3",
            "linecolor": "#A2B1C6",
            "ticks": ""
           }
          },
          "title": {
           "x": 0.05
          },
          "xaxis": {
           "automargin": true,
           "gridcolor": "#EBF0F8",
           "linecolor": "#EBF0F8",
           "ticks": "",
           "title": {
            "standoff": 15
           },
           "zerolinecolor": "#EBF0F8",
           "zerolinewidth": 2
          },
          "yaxis": {
           "automargin": true,
           "gridcolor": "#EBF0F8",
           "linecolor": "#EBF0F8",
           "ticks": "",
           "title": {
            "standoff": 15
           },
           "zerolinecolor": "#EBF0F8",
           "zerolinewidth": 2
          }
         }
        },
        "xaxis": {
         "anchor": "y",
         "domain": [
          0.0,
          0.175
         ],
         "showgrid": true
        },
        "yaxis": {
         "anchor": "x",
         "domain": [
          0.6000000000000001,
          1.0
         ],
         "showgrid": true
        },
        "xaxis2": {
         "anchor": "y2",
         "domain": [
          0.275,
          0.45
         ],
         "showgrid": true
        },
        "yaxis2": {
         "anchor": "x2",
         "domain": [
          0.6000000000000001,
          1.0
         ],
         "showgrid": true
        },
        "xaxis3": {
         "anchor": "y3",
         "domain": [
          0.55,
          0.7250000000000001
         ],
         "showgrid": true
        },
        "yaxis3": {
         "anchor": "x3",
         "domain": [
          0.6000000000000001,
          1.0
         ],
         "showgrid": true
        },
        "xaxis4": {
         "anchor": "y4",
         "domain": [
          0.825,
          1.0
         ],
         "showgrid": true
        },
        "yaxis4": {
         "anchor": "x4",
         "domain": [
          0.6000000000000001,
          1.0
         ],
         "showgrid": true
        },
        "xaxis5": {
         "anchor": "y5",
         "domain": [
          0.0,
          0.175
         ],
         "showgrid": true
        },
        "yaxis5": {
         "anchor": "x5",
         "domain": [
          0.0,
          0.4
         ],
         "showgrid": true
        },
        "xaxis6": {
         "anchor": "y6",
         "domain": [
          0.275,
          0.45
         ],
         "showgrid": true
        },
        "yaxis6": {
         "anchor": "x6",
         "domain": [
          0.0,
          0.4
         ],
         "showgrid": true
        },
        "xaxis7": {
         "anchor": "y7",
         "domain": [
          0.55,
          0.7250000000000001
         ],
         "showgrid": true
        },
        "yaxis7": {
         "anchor": "x7",
         "domain": [
          0.0,
          0.4
         ],
         "showgrid": true
        },
        "xaxis8": {
         "anchor": "y8",
         "domain": [
          0.825,
          1.0
         ],
         "showgrid": true
        },
        "yaxis8": {
         "anchor": "x8",
         "domain": [
          0.0,
          0.4
         ],
         "showgrid": true
        },
        "annotations": [
         {
          "font": {
           "size": 16
          },
          "showarrow": false,
          "text": "Topic 0",
          "x": 0.0875,
          "xanchor": "center",
          "xref": "paper",
          "y": 1.0,
          "yanchor": "bottom",
          "yref": "paper"
         },
         {
          "font": {
           "size": 16
          },
          "showarrow": false,
          "text": "Topic 1",
          "x": 0.36250000000000004,
          "xanchor": "center",
          "xref": "paper",
          "y": 1.0,
          "yanchor": "bottom",
          "yref": "paper"
         },
         {
          "font": {
           "size": 16
          },
          "showarrow": false,
          "text": "Topic 2",
          "x": 0.6375000000000001,
          "xanchor": "center",
          "xref": "paper",
          "y": 1.0,
          "yanchor": "bottom",
          "yref": "paper"
         },
         {
          "font": {
           "size": 16
          },
          "showarrow": false,
          "text": "Topic 3",
          "x": 0.9125,
          "xanchor": "center",
          "xref": "paper",
          "y": 1.0,
          "yanchor": "bottom",
          "yref": "paper"
         },
         {
          "font": {
           "size": 16
          },
          "showarrow": false,
          "text": "Topic 4",
          "x": 0.0875,
          "xanchor": "center",
          "xref": "paper",
          "y": 0.4,
          "yanchor": "bottom",
          "yref": "paper"
         },
         {
          "font": {
           "size": 16
          },
          "showarrow": false,
          "text": "Topic 5",
          "x": 0.36250000000000004,
          "xanchor": "center",
          "xref": "paper",
          "y": 0.4,
          "yanchor": "bottom",
          "yref": "paper"
         },
         {
          "font": {
           "size": 16
          },
          "showarrow": false,
          "text": "Topic 6",
          "x": 0.6375000000000001,
          "xanchor": "center",
          "xref": "paper",
          "y": 0.4,
          "yanchor": "bottom",
          "yref": "paper"
         },
         {
          "font": {
           "size": 16
          },
          "showarrow": false,
          "text": "Topic 7",
          "x": 0.9125,
          "xanchor": "center",
          "xref": "paper",
          "y": 0.4,
          "yanchor": "bottom",
          "yref": "paper"
         }
        ],
        "title": {
         "font": {
          "size": 22,
          "color": "Black"
         },
         "text": "Topic Word Scores",
         "x": 0.5,
         "xanchor": "center",
         "yanchor": "top"
        },
        "hoverlabel": {
         "font": {
          "size": 16,
          "family": "Rockwell"
         },
         "bgcolor": "white"
        },
        "showlegend": false,
        "width": 1000,
        "height": 500
       },
       "config": {
        "plotlyServerURL": "https://plot.ly"
       }
      }
     },
     "metadata": {},
     "output_type": "display_data"
    }
   ],
   "execution_count": 14
  },
  {
   "cell_type": "code",
   "id": "a680519dca268321",
   "metadata": {},
   "source": [
    "topic_model.save(\"my_model\", serialization=\".safetensors\")"
   ],
   "outputs": [],
   "execution_count": null
  },
  {
   "cell_type": "markdown",
   "id": "c9f16f14",
   "metadata": {},
   "source": [
    "# Generative Labeling"
   ]
  },
  {
   "cell_type": "code",
   "id": "6384bdfe",
   "metadata": {
    "ExecuteTime": {
     "end_time": "2025-07-19T15:51:48.844990Z",
     "start_time": "2025-07-19T15:51:10.614144Z"
    }
   },
   "source": [
    "import requests\n",
    "\n",
    "def query_ollama(prompt, model=\"gemma3:12b\", temperature=0.1):\n",
    "    url = \"http://localhost:11434/api/generate\"\n",
    "    response = requests.post(url, json={\n",
    "        \"model\": model,\n",
    "        \"prompt\": prompt,\n",
    "        \"temperature\": temperature,\n",
    "        \"stream\": False\n",
    "    })\n",
    "    \n",
    "    return response.json()['response'].strip()\n",
    "\n",
    "top_topic_ids = topic_model.get_topic_info().head(10)['Topic'].tolist()\n",
    "\n",
    "topic_keywords = {topic_id: topic_model.get_topic(topic_id) for topic_id in top_topic_ids}\n",
    "\n",
    "custom_labels = {}\n",
    "\n",
    "\n",
    "for topic_id, keywords in topic_keywords.items():\n",
    "    words = ', '.join([word for word, _ in keywords])\n",
    "    prompt = f\"Give these keywords: {words}, generate a short, descriptive topic label that summarizes the theme. All of the topics come from the period 1939 to 1945 and are related to the Sicherheitsdienst in Nazi Germany. They are the ones who wrote the reports.\"\n",
    "    label = query_ollama(prompt)\n",
    "    custom_labels[topic_id] = label\n",
    "    print(f\"Topic {topic_id}: {label}\")\n",
    "    \n",
    "# Copy existing labels\n",
    "topic_model.custom_labels_ = topic_model.get_topic_info()['Name'].tolist()\n",
    "\n",
    "# Replace with new ones\n",
    "\n",
    "for topic_id, label in custom_labels.items():\n",
    "    if topic_id < len(topic_model.custom_labels_):\n",
    "        topic_model.custom_labels_[topic_id] = label\n",
    "        \n",
    "topic_model.visualize_topics()"
   ],
   "outputs": [
    {
     "name": "stdout",
     "output_type": "stream",
     "text": [
      "Topic -1: Here's a short, descriptive topic label summarizing the theme based on the keywords and context:\n",
      "\n",
      "**SD Reporting & Analysis (1939-1945)**\n",
      "\n",
      "Here's why this works:\n",
      "\n",
      "*   **SD Reporting:** Directly references the Sicherheitsdienst and their primary function.\n",
      "*   **Analysis:** The keywords suggest a process of evaluation (\"hätten,\" \"könne,\" \"mehr\") related to information.\n",
      "*   **(1939-1945):**  Specifies the timeframe.\n",
      "\n",
      "\n",
      "\n",
      "The keywords like \"bereits\" (already), \"immer\" (always), \"zeit\" (time) and \"teil\" (part) point to ongoing observations and documentation - core to SD reporting. \"Jedoch\" (however) indicates critical assessment and potential contradictions within the reports. \"Besonders\" highlights areas of focus.\n",
      "Topic 0: Here are a few topic label options based on the keywords and context (SD reports, 1939-1945), ranging in specificity:\n",
      "\n",
      "**Option 1 (Most Concise):**\n",
      "\n",
      "*   **Catholic Church Surveillance (1939-1945)**\n",
      "\n",
      "**Option 2 (Slightly more descriptive):**\n",
      "\n",
      "*   **SD Reports on Catholic Activity (1939-1945)**\n",
      "\n",
      "**Option 3 (More Detail):**\n",
      "\n",
      "*   **SD Monitoring of Catholic Institutions and Individuals (1939-1945)**\n",
      "\n",
      "**Explanation of Choices:**\n",
      "\n",
      "*   **\"Kirche\"** (Church) is the most obvious key term. \"Catholic\" specifies the religious focus.\n",
      "*   The other keywords (\"immer,\" \"mehr,\" \"besonders,\" \"vielfach,\" \"hätten,\" \"könne,\" \"Zeit,\" \"Italien\") suggest ongoing observation, increasing activity, potentially concerning developments, and potentially a focus on Italy.  These are incorporated into the descriptive phrasing.\n",
      "*   The timeframe (1939-1945) is essential for context.\n",
      "\n",
      "\n",
      "\n",
      "I hope this helps!\n",
      "Topic 1: Here are a few topic label options, ranked by how well they capture the theme, given the keywords and context:\n",
      "\n",
      "**Best Options:**\n",
      "\n",
      "*   **SD Reports: Eastern Europe & Soviet Influence (1939-1945)** - This is comprehensive, hitting key elements.\n",
      "*   **Nazi Security Intelligence: Czechs, Jews, and Soviets (1939-1945)** - More direct about the subjects of the reports.\n",
      "\n",
      "**Good Options:**\n",
      "\n",
      "*   **SD Intelligence on Eastern Europe (WWII)** - Concise, but loses some specificity.\n",
      "*   **Nazi Surveillance: Czechs, Soviets, and Jewish Communities (1939-1945)** - Focuses on the surveillance aspect.\n",
      "\n",
      "\n",
      "\n",
      "**Explanation of Choices:**\n",
      "\n",
      "*   **Frankfurt & Berlin:** Indicate geographic locations of interest to the SD.\n",
      "*   **Tschechen & Tschechischen:** Refer to Czechs, a key ethnic group.\n",
      "*   **Juden:**  \"Jews\" is a critical element due to the SD's targeting of Jewish communities.\n",
      "*   **Sowjets & Rußland:** Highlight Soviet/Russian elements, reflecting intelligence gathering on the Eastern Front and Soviet influence.\n",
      "*   **Presse:** Suggests potential scrutiny of media and propaganda.\n",
      "*   **Zeit:** \"Time\" reinforces the period (1939-1945).\n",
      "*   **\"Sicherheitsdienst\"**:  The fact that *they* wrote the reports is essential.\n",
      "Topic 2: Here's a short, descriptive topic label summarizing the theme based on the keywords and context:\n",
      "\n",
      "**SD Reporting & Monitoring (1939-1945)**\n",
      "\n",
      "**Reasoning:**\n",
      "\n",
      "*   **SD:** Directly indicates the Sicherheitsdienst (Security Service).\n",
      "*   **Reporting:** Captures the nature of the documents (\"heißt\" suggests information/reports, \"zeitung\" refers to publications).\n",
      "*   **Monitoring:** Addresses the surveillance aspect hinted at by \"stimmen\" (voices), \"vo\" (likely related to communication), and the geographic references (\"Königsberg\").\n",
      "*   **(1939-1945):**  Provides the critical timeframe.\n",
      "\n",
      "\n",
      "\n",
      "The keywords relate to various facets of SD operations: radio broadcasts (\"rundfunk\"), voices/opinions (\"stimmen\"), regional activities (\"bez,\" \"vo,\" \"Königsberg\"), simplified language (\"vereinf\"), and potentially Catholic organizations (\"kath\"). All were likely subjects of SD observation and reporting.\n",
      "Topic 3: Here are a few topic label options, considering the keywords and the SD context (1939-1945 Nazi Germany), ranked by suitability:\n",
      "\n",
      "**Best Options (Most Accurate & Concise):**\n",
      "\n",
      "*   **Agricultural Supply & Farmer Concerns (SD Reports)** - This hits on the core topics (farmers, potatoes, milk, agriculture, supply) and explicitly mentions the SD's involvement.\n",
      "*   **Rural Food Security & Farmer Discontent (SD Reports)** -  Captures the difficulties and potential unrest related to food.\n",
      "\n",
      "**Good Options (Slightly More Descriptive):**\n",
      "\n",
      "*   **Agricultural Production & Farmer Challenges (SD Surveillance)** - Emphasizes the reporting aspect.\n",
      "*   **Food Supply Issues in Agricultural Communities (SD Documentation)** - Clear and comprehensive.\n",
      "\n",
      "**Why these work:**\n",
      "\n",
      "*   **Keywords:** All incorporate central words from your list.\n",
      "*   **Context:** The \"SD Reports/Surveillance/Documentation\" addition is crucial to signal the source and nature of the documents – indicating SD involvement in observing and reporting on these issues.\n",
      "*   **Theme:** They reflect the likely content – reports on how farmers are producing food, their challenges, and potential unrest related to agricultural supply, all viewed through the lens of Nazi control and security.\n",
      "\n",
      "\n",
      "\n",
      "**Important Note:** The SD was interested in these topics to monitor potential dissent or resistance related to food shortages or dissatisfaction amongst the rural population.\n",
      "Topic 4: Here are a few topic label options, considering the keywords and the historical context (SD reports, 1939-1945 Nazi Germany), ranked from most to least descriptive:\n",
      "\n",
      "1. **Social Monitoring & Control (1939-1945)** - This is the most encompassing and accurately reflects the SD's purpose.\n",
      "2. **Community Surveillance & Nazi Influence** - Highlights both the scope (community) and the political element.\n",
      "3. **Domestic Life Under Nazi Scrutiny** -  Emphasizes the personal nature of the reports.\n",
      "4. **Nazi Social Order & Reporting** - Concise and gets to the core of the theme.\n",
      "\n",
      "**Why these choices?**\n",
      "\n",
      "*   **Focus on Surveillance:** The keywords strongly suggest monitoring of people and places. The SD's core function was intelligence gathering and social control.\n",
      "*   **Contextual Awareness:** The time period is crucial.  \"Social Order\" or \"Surveillance\" needs to be understood within the extremely oppressive context of Nazi Germany.\n",
      "\n",
      "\n",
      "\n",
      "I hope this helps!\n",
      "Topic 5: Here are a few options for a short, descriptive topic label summarizing the theme, considering the keywords and the context (Sicherheitsdienst reports, 1939-1945):\n",
      "\n",
      "**Option 1 (Concise & Formal):**\n",
      "\n",
      "*   **SD Cultural Monitoring (1939-1945)**\n",
      "\n",
      "**Option 2 (More Descriptive):**\n",
      "\n",
      "*   **Nazi Cultural Surveillance: SD Reports (1939-1945)**\n",
      "\n",
      "**Option 3 (Emphasizing Content):**\n",
      "\n",
      "*   **Art, Film & Music: SD Surveillance (1939-1945)**\n",
      "\n",
      "**Reasoning:**\n",
      "\n",
      "*   **SD:** Essential to identify the source.\n",
      "*   **Cultural/Monitoring/Surveillance:** Reflects the function of the reports—tracking and assessing cultural output.\n",
      "*   **Art, Film & Music:** Directly incorporates the keywords and the primary subjects.\n",
      "*   **1939-1945:** Provides crucial chronological context.\n",
      "\n",
      "\n",
      "\n",
      "I believe these labels accurately capture the core theme while remaining relatively brief and informative.\n",
      "Topic 6: Here are a few topic label options summarizing the theme, considering the keywords and the context of Sicherheitsdienst reports from 1939-1945:\n",
      "\n",
      "**Option 1 (Most Direct):**\n",
      "\n",
      "*   **Public Celebrations & SD Observation (1939-1945)** - This clearly states the focus on public events and the SD's role in monitoring them.\n",
      "\n",
      "**Option 2 (Slightly more evocative):**\n",
      "\n",
      "*   **Monitoring Public Sentiment: SD Reports on Festivities (1939-1945)** - This highlights both the events (\"Festivities\") and the SD's purpose (monitoring sentiment).\n",
      "\n",
      "**Option 3 (More concise):**\n",
      "\n",
      "*   **SD Observation of Public Events (1939-1945)** - Simple and straightforward.\n",
      "\n",
      "**Why these work:**\n",
      "\n",
      "*   **Keywords:** They incorporate keywords like \"feiern\" (celebrations), \"veranstaltungen\" (events), and imply \"Stimmung\" (mood/sentiment).\n",
      "*   **Context:** The timeframe (1939-1945) is essential to understand the nature of the reports - these weren’t just any celebrations; they occurred during wartime and under a totalitarian regime.\n",
      "*   **SD Connection:** The labels imply that these are reports *from* the Sicherheitsdienst.\n",
      "\n",
      "\n",
      "\n",
      "Ultimately, the best label depends on the level of detail you want to convey.\n",
      "Topic 7: Here's a short, descriptive topic label summarizing the theme based on the keywords and context:\n",
      "\n",
      "**SD Financial Records & Labor (1939-1945)**\n",
      "\n",
      "**Reasoning:**\n",
      "\n",
      "*   **SD:** Explicitly stated as the source.\n",
      "*   **Financial:** Keywords like \"stundenlohn\" (hourly wage), \"umsatz\" (revenue/turnover), \"einkommen\" (income), and \"ztr\" (likely short for a financial term) strongly suggest a financial focus.\n",
      "*   **Labor:** \"Stundenlohn\" points towards labor-related aspects.\n",
      "*   **(1939-1945):** Provides the time period.\n",
      "\n",
      "\n",
      "\n",
      "This label is concise and captures the likely content of the reports.\n",
      "Topic 8: Okay, here's a topic label that aims to be descriptive, accurate to the keywords, and reflects the historical context of the Sicherheitsdienst during 1939-1945:\n",
      "\n",
      "**SD Reports: Christmas & Employee Welfare (1939-1945)**\n",
      "\n",
      "**Reasoning:**\n",
      "\n",
      "*   **\"SD Reports\"**: Immediately identifies the source.\n",
      "*   **\"Christmas\"**: Covers \"weihnachten,\" \"weihnachtsfest,\" \"weihnachtszeit,\" etc.\n",
      "*   **\"Employee Welfare\"**: Captures the aspects of \"weihnachtsgeschäft,\" \"weihnachtsfeiern,\" \"sonderzuteilung,\" \"weihnachtsgratifikationen,\" \"weihnachtssonderzuteilungen,\" and touches on the apparent monitoring of employee bonuses/celebrations.\n",
      "*   **(1939-1945)**: Provides the vital temporal context, crucial for understanding the political significance.\n",
      "\n",
      "This label implies that the Sicherheitsdienst was actively monitoring and reporting on Christmas-related activities and employee benefits within the Nazi system – likely to assess morale, identify potential dissent, or gauge compliance.\n",
      "\n",
      "\n",
      "\n",
      "I hope this is helpful!\n"
     ]
    },
    {
     "data": {
      "application/vnd.plotly.v1+json": {
       "data": [
        {
         "customdata": [
          [
           0,
           "kirche | immer | mehr | besonders | katholischen",
           22127
          ],
          [
           1,
           "frankfurt | tschechen | juden | sowjets | tschechischen",
           11021
          ],
          [
           2,
           "heißt | zt | rundfunk | stimmen | bez",
           9804
          ],
          [
           3,
           "bauern | kartoffeln | mehr | hätten | obst",
           5623
          ],
          [
           4,
           "frauen | lehrer | wohnungen | schulen | kinder",
           3384
          ],
          [
           5,
           "sendung | musik | filme | künstler | kunst",
           1472
          ],
          [
           6,
           "feiern | gut | veranstaltungen | feier | beteiligung",
           826
          ],
          [
           7,
           "000 | stundenlohn | umsatz | etwa | einkommen",
           700
          ],
          [
           8,
           "weihnachten | weihnachtsfest | weihnachtszeit | weihnachtsgeschäft | weihnachtsfeiern",
           199
          ],
          [
           9,
           "uhr | monaten | tage | monate | wochen",
           152
          ],
          [
           10,
           "recht | freiheit | mensch | natürliche | urrechte",
           31
          ],
          [
           11,
           "sport | leibesübungen | leibeserziehung | betriebssportappellen | betriebssportgemeinschaften",
           25
          ],
          [
           12,
           "selbstmorde | tränen | selbstmordversuche | personen | männliche",
           19
          ],
          [
           13,
           "bdm | mädelerziehung | chöre | führerinnen | zusammenkünften",
           5
          ]
         ],
         "hovertemplate": "<b>Topic %{customdata[0]}</b><br>%{customdata[1]}<br>Size: %{customdata[2]}",
         "legendgroup": "",
         "marker": {
          "color": "#B0BEC5",
          "size": {
           "dtype": "i2",
           "bdata": "b1YNK0wm9xU4DcAFOgO8AscAmAAfABkAEwAFAA=="
          },
          "sizemode": "area",
          "sizeref": 13.829375,
          "symbol": "circle",
          "line": {
           "color": "DarkSlateGrey",
           "width": 2
          }
         },
         "mode": "markers",
         "name": "",
         "orientation": "v",
         "showlegend": false,
         "x": {
          "dtype": "f4",
          "bdata": "cLITQR/KJ0G88/dAA8YFQTbhIkHbPN9AORYDQQVWAUE7x/1AbfkkQf0NHUFrQ/pACx4XQWFB3UA="
         },
         "xaxis": "x",
         "y": {
          "dtype": "f4",
          "bdata": "DenXQAdc5kAxeBNB7vEIQciyFEGoSHZAgg5oQEAKD0HjSIJAIsUXQcDo20A7dmNA7OLnQDvGlEA="
         },
         "yaxis": "y",
         "type": "scatter"
        }
       ],
       "layout": {
        "template": {
         "data": {
          "barpolar": [
           {
            "marker": {
             "line": {
              "color": "white",
              "width": 0.5
             },
             "pattern": {
              "fillmode": "overlay",
              "size": 10,
              "solidity": 0.2
             }
            },
            "type": "barpolar"
           }
          ],
          "bar": [
           {
            "error_x": {
             "color": "rgb(36,36,36)"
            },
            "error_y": {
             "color": "rgb(36,36,36)"
            },
            "marker": {
             "line": {
              "color": "white",
              "width": 0.5
             },
             "pattern": {
              "fillmode": "overlay",
              "size": 10,
              "solidity": 0.2
             }
            },
            "type": "bar"
           }
          ],
          "carpet": [
           {
            "aaxis": {
             "endlinecolor": "rgb(36,36,36)",
             "gridcolor": "white",
             "linecolor": "white",
             "minorgridcolor": "white",
             "startlinecolor": "rgb(36,36,36)"
            },
            "baxis": {
             "endlinecolor": "rgb(36,36,36)",
             "gridcolor": "white",
             "linecolor": "white",
             "minorgridcolor": "white",
             "startlinecolor": "rgb(36,36,36)"
            },
            "type": "carpet"
           }
          ],
          "choropleth": [
           {
            "colorbar": {
             "outlinewidth": 1,
             "tickcolor": "rgb(36,36,36)",
             "ticks": "outside"
            },
            "type": "choropleth"
           }
          ],
          "contourcarpet": [
           {
            "colorbar": {
             "outlinewidth": 1,
             "tickcolor": "rgb(36,36,36)",
             "ticks": "outside"
            },
            "type": "contourcarpet"
           }
          ],
          "contour": [
           {
            "colorbar": {
             "outlinewidth": 1,
             "tickcolor": "rgb(36,36,36)",
             "ticks": "outside"
            },
            "colorscale": [
             [
              0.0,
              "#440154"
             ],
             [
              0.1111111111111111,
              "#482878"
             ],
             [
              0.2222222222222222,
              "#3e4989"
             ],
             [
              0.3333333333333333,
              "#31688e"
             ],
             [
              0.4444444444444444,
              "#26828e"
             ],
             [
              0.5555555555555556,
              "#1f9e89"
             ],
             [
              0.6666666666666666,
              "#35b779"
             ],
             [
              0.7777777777777778,
              "#6ece58"
             ],
             [
              0.8888888888888888,
              "#b5de2b"
             ],
             [
              1.0,
              "#fde725"
             ]
            ],
            "type": "contour"
           }
          ],
          "heatmap": [
           {
            "colorbar": {
             "outlinewidth": 1,
             "tickcolor": "rgb(36,36,36)",
             "ticks": "outside"
            },
            "colorscale": [
             [
              0.0,
              "#440154"
             ],
             [
              0.1111111111111111,
              "#482878"
             ],
             [
              0.2222222222222222,
              "#3e4989"
             ],
             [
              0.3333333333333333,
              "#31688e"
             ],
             [
              0.4444444444444444,
              "#26828e"
             ],
             [
              0.5555555555555556,
              "#1f9e89"
             ],
             [
              0.6666666666666666,
              "#35b779"
             ],
             [
              0.7777777777777778,
              "#6ece58"
             ],
             [
              0.8888888888888888,
              "#b5de2b"
             ],
             [
              1.0,
              "#fde725"
             ]
            ],
            "type": "heatmap"
           }
          ],
          "histogram2dcontour": [
           {
            "colorbar": {
             "outlinewidth": 1,
             "tickcolor": "rgb(36,36,36)",
             "ticks": "outside"
            },
            "colorscale": [
             [
              0.0,
              "#440154"
             ],
             [
              0.1111111111111111,
              "#482878"
             ],
             [
              0.2222222222222222,
              "#3e4989"
             ],
             [
              0.3333333333333333,
              "#31688e"
             ],
             [
              0.4444444444444444,
              "#26828e"
             ],
             [
              0.5555555555555556,
              "#1f9e89"
             ],
             [
              0.6666666666666666,
              "#35b779"
             ],
             [
              0.7777777777777778,
              "#6ece58"
             ],
             [
              0.8888888888888888,
              "#b5de2b"
             ],
             [
              1.0,
              "#fde725"
             ]
            ],
            "type": "histogram2dcontour"
           }
          ],
          "histogram2d": [
           {
            "colorbar": {
             "outlinewidth": 1,
             "tickcolor": "rgb(36,36,36)",
             "ticks": "outside"
            },
            "colorscale": [
             [
              0.0,
              "#440154"
             ],
             [
              0.1111111111111111,
              "#482878"
             ],
             [
              0.2222222222222222,
              "#3e4989"
             ],
             [
              0.3333333333333333,
              "#31688e"
             ],
             [
              0.4444444444444444,
              "#26828e"
             ],
             [
              0.5555555555555556,
              "#1f9e89"
             ],
             [
              0.6666666666666666,
              "#35b779"
             ],
             [
              0.7777777777777778,
              "#6ece58"
             ],
             [
              0.8888888888888888,
              "#b5de2b"
             ],
             [
              1.0,
              "#fde725"
             ]
            ],
            "type": "histogram2d"
           }
          ],
          "histogram": [
           {
            "marker": {
             "line": {
              "color": "white",
              "width": 0.6
             }
            },
            "type": "histogram"
           }
          ],
          "mesh3d": [
           {
            "colorbar": {
             "outlinewidth": 1,
             "tickcolor": "rgb(36,36,36)",
             "ticks": "outside"
            },
            "type": "mesh3d"
           }
          ],
          "parcoords": [
           {
            "line": {
             "colorbar": {
              "outlinewidth": 1,
              "tickcolor": "rgb(36,36,36)",
              "ticks": "outside"
             }
            },
            "type": "parcoords"
           }
          ],
          "pie": [
           {
            "automargin": true,
            "type": "pie"
           }
          ],
          "scatter3d": [
           {
            "line": {
             "colorbar": {
              "outlinewidth": 1,
              "tickcolor": "rgb(36,36,36)",
              "ticks": "outside"
             }
            },
            "marker": {
             "colorbar": {
              "outlinewidth": 1,
              "tickcolor": "rgb(36,36,36)",
              "ticks": "outside"
             }
            },
            "type": "scatter3d"
           }
          ],
          "scattercarpet": [
           {
            "marker": {
             "colorbar": {
              "outlinewidth": 1,
              "tickcolor": "rgb(36,36,36)",
              "ticks": "outside"
             }
            },
            "type": "scattercarpet"
           }
          ],
          "scattergeo": [
           {
            "marker": {
             "colorbar": {
              "outlinewidth": 1,
              "tickcolor": "rgb(36,36,36)",
              "ticks": "outside"
             }
            },
            "type": "scattergeo"
           }
          ],
          "scattergl": [
           {
            "marker": {
             "colorbar": {
              "outlinewidth": 1,
              "tickcolor": "rgb(36,36,36)",
              "ticks": "outside"
             }
            },
            "type": "scattergl"
           }
          ],
          "scattermapbox": [
           {
            "marker": {
             "colorbar": {
              "outlinewidth": 1,
              "tickcolor": "rgb(36,36,36)",
              "ticks": "outside"
             }
            },
            "type": "scattermapbox"
           }
          ],
          "scattermap": [
           {
            "marker": {
             "colorbar": {
              "outlinewidth": 1,
              "tickcolor": "rgb(36,36,36)",
              "ticks": "outside"
             }
            },
            "type": "scattermap"
           }
          ],
          "scatterpolargl": [
           {
            "marker": {
             "colorbar": {
              "outlinewidth": 1,
              "tickcolor": "rgb(36,36,36)",
              "ticks": "outside"
             }
            },
            "type": "scatterpolargl"
           }
          ],
          "scatterpolar": [
           {
            "marker": {
             "colorbar": {
              "outlinewidth": 1,
              "tickcolor": "rgb(36,36,36)",
              "ticks": "outside"
             }
            },
            "type": "scatterpolar"
           }
          ],
          "scatter": [
           {
            "fillpattern": {
             "fillmode": "overlay",
             "size": 10,
             "solidity": 0.2
            },
            "type": "scatter"
           }
          ],
          "scatterternary": [
           {
            "marker": {
             "colorbar": {
              "outlinewidth": 1,
              "tickcolor": "rgb(36,36,36)",
              "ticks": "outside"
             }
            },
            "type": "scatterternary"
           }
          ],
          "surface": [
           {
            "colorbar": {
             "outlinewidth": 1,
             "tickcolor": "rgb(36,36,36)",
             "ticks": "outside"
            },
            "colorscale": [
             [
              0.0,
              "#440154"
             ],
             [
              0.1111111111111111,
              "#482878"
             ],
             [
              0.2222222222222222,
              "#3e4989"
             ],
             [
              0.3333333333333333,
              "#31688e"
             ],
             [
              0.4444444444444444,
              "#26828e"
             ],
             [
              0.5555555555555556,
              "#1f9e89"
             ],
             [
              0.6666666666666666,
              "#35b779"
             ],
             [
              0.7777777777777778,
              "#6ece58"
             ],
             [
              0.8888888888888888,
              "#b5de2b"
             ],
             [
              1.0,
              "#fde725"
             ]
            ],
            "type": "surface"
           }
          ],
          "table": [
           {
            "cells": {
             "fill": {
              "color": "rgb(237,237,237)"
             },
             "line": {
              "color": "white"
             }
            },
            "header": {
             "fill": {
              "color": "rgb(217,217,217)"
             },
             "line": {
              "color": "white"
             }
            },
            "type": "table"
           }
          ]
         },
         "layout": {
          "annotationdefaults": {
           "arrowhead": 0,
           "arrowwidth": 1
          },
          "autotypenumbers": "strict",
          "coloraxis": {
           "colorbar": {
            "outlinewidth": 1,
            "tickcolor": "rgb(36,36,36)",
            "ticks": "outside"
           }
          },
          "colorscale": {
           "diverging": [
            [
             0.0,
             "rgb(103,0,31)"
            ],
            [
             0.1,
             "rgb(178,24,43)"
            ],
            [
             0.2,
             "rgb(214,96,77)"
            ],
            [
             0.3,
             "rgb(244,165,130)"
            ],
            [
             0.4,
             "rgb(253,219,199)"
            ],
            [
             0.5,
             "rgb(247,247,247)"
            ],
            [
             0.6,
             "rgb(209,229,240)"
            ],
            [
             0.7,
             "rgb(146,197,222)"
            ],
            [
             0.8,
             "rgb(67,147,195)"
            ],
            [
             0.9,
             "rgb(33,102,172)"
            ],
            [
             1.0,
             "rgb(5,48,97)"
            ]
           ],
           "sequential": [
            [
             0.0,
             "#440154"
            ],
            [
             0.1111111111111111,
             "#482878"
            ],
            [
             0.2222222222222222,
             "#3e4989"
            ],
            [
             0.3333333333333333,
             "#31688e"
            ],
            [
             0.4444444444444444,
             "#26828e"
            ],
            [
             0.5555555555555556,
             "#1f9e89"
            ],
            [
             0.6666666666666666,
             "#35b779"
            ],
            [
             0.7777777777777778,
             "#6ece58"
            ],
            [
             0.8888888888888888,
             "#b5de2b"
            ],
            [
             1.0,
             "#fde725"
            ]
           ],
           "sequentialminus": [
            [
             0.0,
             "#440154"
            ],
            [
             0.1111111111111111,
             "#482878"
            ],
            [
             0.2222222222222222,
             "#3e4989"
            ],
            [
             0.3333333333333333,
             "#31688e"
            ],
            [
             0.4444444444444444,
             "#26828e"
            ],
            [
             0.5555555555555556,
             "#1f9e89"
            ],
            [
             0.6666666666666666,
             "#35b779"
            ],
            [
             0.7777777777777778,
             "#6ece58"
            ],
            [
             0.8888888888888888,
             "#b5de2b"
            ],
            [
             1.0,
             "#fde725"
            ]
           ]
          },
          "colorway": [
           "#1F77B4",
           "#FF7F0E",
           "#2CA02C",
           "#D62728",
           "#9467BD",
           "#8C564B",
           "#E377C2",
           "#7F7F7F",
           "#BCBD22",
           "#17BECF"
          ],
          "font": {
           "color": "rgb(36,36,36)"
          },
          "geo": {
           "bgcolor": "white",
           "lakecolor": "white",
           "landcolor": "white",
           "showlakes": true,
           "showland": true,
           "subunitcolor": "white"
          },
          "hoverlabel": {
           "align": "left"
          },
          "hovermode": "closest",
          "mapbox": {
           "style": "light"
          },
          "paper_bgcolor": "white",
          "plot_bgcolor": "white",
          "polar": {
           "angularaxis": {
            "gridcolor": "rgb(232,232,232)",
            "linecolor": "rgb(36,36,36)",
            "showgrid": false,
            "showline": true,
            "ticks": "outside"
           },
           "bgcolor": "white",
           "radialaxis": {
            "gridcolor": "rgb(232,232,232)",
            "linecolor": "rgb(36,36,36)",
            "showgrid": false,
            "showline": true,
            "ticks": "outside"
           }
          },
          "scene": {
           "xaxis": {
            "backgroundcolor": "white",
            "gridcolor": "rgb(232,232,232)",
            "gridwidth": 2,
            "linecolor": "rgb(36,36,36)",
            "showbackground": true,
            "showgrid": false,
            "showline": true,
            "ticks": "outside",
            "zeroline": false,
            "zerolinecolor": "rgb(36,36,36)"
           },
           "yaxis": {
            "backgroundcolor": "white",
            "gridcolor": "rgb(232,232,232)",
            "gridwidth": 2,
            "linecolor": "rgb(36,36,36)",
            "showbackground": true,
            "showgrid": false,
            "showline": true,
            "ticks": "outside",
            "zeroline": false,
            "zerolinecolor": "rgb(36,36,36)"
           },
           "zaxis": {
            "backgroundcolor": "white",
            "gridcolor": "rgb(232,232,232)",
            "gridwidth": 2,
            "linecolor": "rgb(36,36,36)",
            "showbackground": true,
            "showgrid": false,
            "showline": true,
            "ticks": "outside",
            "zeroline": false,
            "zerolinecolor": "rgb(36,36,36)"
           }
          },
          "shapedefaults": {
           "fillcolor": "black",
           "line": {
            "width": 0
           },
           "opacity": 0.3
          },
          "ternary": {
           "aaxis": {
            "gridcolor": "rgb(232,232,232)",
            "linecolor": "rgb(36,36,36)",
            "showgrid": false,
            "showline": true,
            "ticks": "outside"
           },
           "baxis": {
            "gridcolor": "rgb(232,232,232)",
            "linecolor": "rgb(36,36,36)",
            "showgrid": false,
            "showline": true,
            "ticks": "outside"
           },
           "bgcolor": "white",
           "caxis": {
            "gridcolor": "rgb(232,232,232)",
            "linecolor": "rgb(36,36,36)",
            "showgrid": false,
            "showline": true,
            "ticks": "outside"
           }
          },
          "title": {
           "x": 0.05
          },
          "xaxis": {
           "automargin": true,
           "gridcolor": "rgb(232,232,232)",
           "linecolor": "rgb(36,36,36)",
           "showgrid": false,
           "showline": true,
           "ticks": "outside",
           "title": {
            "standoff": 15
           },
           "zeroline": false,
           "zerolinecolor": "rgb(36,36,36)"
          },
          "yaxis": {
           "automargin": true,
           "gridcolor": "rgb(232,232,232)",
           "linecolor": "rgb(36,36,36)",
           "showgrid": false,
           "showline": true,
           "ticks": "outside",
           "title": {
            "standoff": 15
           },
           "zeroline": false,
           "zerolinecolor": "rgb(36,36,36)"
          }
         }
        },
        "xaxis": {
         "anchor": "y",
         "domain": [
          0.0,
          1.0
         ],
         "title": {
          "text": ""
         },
         "visible": false,
         "range": [
          5.877096176147461,
          12.0598726272583
         ]
        },
        "yaxis": {
         "anchor": "x",
         "domain": [
          0.0,
          1.0
         ],
         "title": {
          "text": ""
         },
         "visible": false,
         "range": [
          3.02097749710083,
          10.908472061157227
         ]
        },
        "legend": {
         "tracegroupgap": 0,
         "itemsizing": "constant"
        },
        "margin": {
         "t": 60
        },
        "title": {
         "font": {
          "size": 22,
          "color": "Black"
         },
         "text": "<b>Intertopic Distance Map</b>",
         "y": 0.95,
         "x": 0.5,
         "xanchor": "center",
         "yanchor": "top"
        },
        "hoverlabel": {
         "font": {
          "size": 16,
          "family": "Rockwell"
         },
         "bgcolor": "white"
        },
        "width": 650,
        "height": 650,
        "sliders": [
         {
          "active": 0,
          "pad": {
           "t": 50
          },
          "steps": [
           {
            "args": [
             {
              "marker.color": [
               [
                "red",
                "#B0BEC5",
                "#B0BEC5",
                "#B0BEC5",
                "#B0BEC5",
                "#B0BEC5",
                "#B0BEC5",
                "#B0BEC5",
                "#B0BEC5",
                "#B0BEC5",
                "#B0BEC5",
                "#B0BEC5",
                "#B0BEC5",
                "#B0BEC5"
               ]
              ]
             }
            ],
            "label": "Topic 0",
            "method": "update"
           },
           {
            "args": [
             {
              "marker.color": [
               [
                "#B0BEC5",
                "red",
                "#B0BEC5",
                "#B0BEC5",
                "#B0BEC5",
                "#B0BEC5",
                "#B0BEC5",
                "#B0BEC5",
                "#B0BEC5",
                "#B0BEC5",
                "#B0BEC5",
                "#B0BEC5",
                "#B0BEC5",
                "#B0BEC5"
               ]
              ]
             }
            ],
            "label": "Topic 1",
            "method": "update"
           },
           {
            "args": [
             {
              "marker.color": [
               [
                "#B0BEC5",
                "#B0BEC5",
                "red",
                "#B0BEC5",
                "#B0BEC5",
                "#B0BEC5",
                "#B0BEC5",
                "#B0BEC5",
                "#B0BEC5",
                "#B0BEC5",
                "#B0BEC5",
                "#B0BEC5",
                "#B0BEC5",
                "#B0BEC5"
               ]
              ]
             }
            ],
            "label": "Topic 2",
            "method": "update"
           },
           {
            "args": [
             {
              "marker.color": [
               [
                "#B0BEC5",
                "#B0BEC5",
                "#B0BEC5",
                "red",
                "#B0BEC5",
                "#B0BEC5",
                "#B0BEC5",
                "#B0BEC5",
                "#B0BEC5",
                "#B0BEC5",
                "#B0BEC5",
                "#B0BEC5",
                "#B0BEC5",
                "#B0BEC5"
               ]
              ]
             }
            ],
            "label": "Topic 3",
            "method": "update"
           },
           {
            "args": [
             {
              "marker.color": [
               [
                "#B0BEC5",
                "#B0BEC5",
                "#B0BEC5",
                "#B0BEC5",
                "red",
                "#B0BEC5",
                "#B0BEC5",
                "#B0BEC5",
                "#B0BEC5",
                "#B0BEC5",
                "#B0BEC5",
                "#B0BEC5",
                "#B0BEC5",
                "#B0BEC5"
               ]
              ]
             }
            ],
            "label": "Topic 4",
            "method": "update"
           },
           {
            "args": [
             {
              "marker.color": [
               [
                "#B0BEC5",
                "#B0BEC5",
                "#B0BEC5",
                "#B0BEC5",
                "#B0BEC5",
                "red",
                "#B0BEC5",
                "#B0BEC5",
                "#B0BEC5",
                "#B0BEC5",
                "#B0BEC5",
                "#B0BEC5",
                "#B0BEC5",
                "#B0BEC5"
               ]
              ]
             }
            ],
            "label": "Topic 5",
            "method": "update"
           },
           {
            "args": [
             {
              "marker.color": [
               [
                "#B0BEC5",
                "#B0BEC5",
                "#B0BEC5",
                "#B0BEC5",
                "#B0BEC5",
                "#B0BEC5",
                "red",
                "#B0BEC5",
                "#B0BEC5",
                "#B0BEC5",
                "#B0BEC5",
                "#B0BEC5",
                "#B0BEC5",
                "#B0BEC5"
               ]
              ]
             }
            ],
            "label": "Topic 6",
            "method": "update"
           },
           {
            "args": [
             {
              "marker.color": [
               [
                "#B0BEC5",
                "#B0BEC5",
                "#B0BEC5",
                "#B0BEC5",
                "#B0BEC5",
                "#B0BEC5",
                "#B0BEC5",
                "red",
                "#B0BEC5",
                "#B0BEC5",
                "#B0BEC5",
                "#B0BEC5",
                "#B0BEC5",
                "#B0BEC5"
               ]
              ]
             }
            ],
            "label": "Topic 7",
            "method": "update"
           },
           {
            "args": [
             {
              "marker.color": [
               [
                "#B0BEC5",
                "#B0BEC5",
                "#B0BEC5",
                "#B0BEC5",
                "#B0BEC5",
                "#B0BEC5",
                "#B0BEC5",
                "#B0BEC5",
                "red",
                "#B0BEC5",
                "#B0BEC5",
                "#B0BEC5",
                "#B0BEC5",
                "#B0BEC5"
               ]
              ]
             }
            ],
            "label": "Topic 8",
            "method": "update"
           },
           {
            "args": [
             {
              "marker.color": [
               [
                "#B0BEC5",
                "#B0BEC5",
                "#B0BEC5",
                "#B0BEC5",
                "#B0BEC5",
                "#B0BEC5",
                "#B0BEC5",
                "#B0BEC5",
                "#B0BEC5",
                "red",
                "#B0BEC5",
                "#B0BEC5",
                "#B0BEC5",
                "#B0BEC5"
               ]
              ]
             }
            ],
            "label": "Topic 9",
            "method": "update"
           },
           {
            "args": [
             {
              "marker.color": [
               [
                "#B0BEC5",
                "#B0BEC5",
                "#B0BEC5",
                "#B0BEC5",
                "#B0BEC5",
                "#B0BEC5",
                "#B0BEC5",
                "#B0BEC5",
                "#B0BEC5",
                "#B0BEC5",
                "red",
                "#B0BEC5",
                "#B0BEC5",
                "#B0BEC5"
               ]
              ]
             }
            ],
            "label": "Topic 10",
            "method": "update"
           },
           {
            "args": [
             {
              "marker.color": [
               [
                "#B0BEC5",
                "#B0BEC5",
                "#B0BEC5",
                "#B0BEC5",
                "#B0BEC5",
                "#B0BEC5",
                "#B0BEC5",
                "#B0BEC5",
                "#B0BEC5",
                "#B0BEC5",
                "#B0BEC5",
                "red",
                "#B0BEC5",
                "#B0BEC5"
               ]
              ]
             }
            ],
            "label": "Topic 11",
            "method": "update"
           },
           {
            "args": [
             {
              "marker.color": [
               [
                "#B0BEC5",
                "#B0BEC5",
                "#B0BEC5",
                "#B0BEC5",
                "#B0BEC5",
                "#B0BEC5",
                "#B0BEC5",
                "#B0BEC5",
                "#B0BEC5",
                "#B0BEC5",
                "#B0BEC5",
                "#B0BEC5",
                "red",
                "#B0BEC5"
               ]
              ]
             }
            ],
            "label": "Topic 12",
            "method": "update"
           },
           {
            "args": [
             {
              "marker.color": [
               [
                "#B0BEC5",
                "#B0BEC5",
                "#B0BEC5",
                "#B0BEC5",
                "#B0BEC5",
                "#B0BEC5",
                "#B0BEC5",
                "#B0BEC5",
                "#B0BEC5",
                "#B0BEC5",
                "#B0BEC5",
                "#B0BEC5",
                "#B0BEC5",
                "red"
               ]
              ]
             }
            ],
            "label": "Topic 13",
            "method": "update"
           }
          ]
         }
        ],
        "shapes": [
         {
          "line": {
           "color": "#CFD8DC",
           "width": 2
          },
          "type": "line",
          "x0": 8.968484878540039,
          "x1": 8.968484878540039,
          "y0": 3.02097749710083,
          "y1": 10.908472061157227
         },
         {
          "line": {
           "color": "#9E9E9E",
           "width": 2
          },
          "type": "line",
          "x0": 5.877096176147461,
          "x1": 12.0598726272583,
          "y0": 6.964724540710449,
          "y1": 6.964724540710449
         }
        ],
        "annotations": [
         {
          "showarrow": false,
          "text": "D1",
          "x": 5.877096176147461,
          "y": 6.964724540710449,
          "yshift": 10
         },
         {
          "showarrow": false,
          "text": "D2",
          "x": 8.968484878540039,
          "xshift": 10,
          "y": 10.908472061157227
         }
        ]
       },
       "config": {
        "plotlyServerURL": "https://plot.ly"
       }
      }
     },
     "metadata": {},
     "output_type": "display_data"
    }
   ],
   "execution_count": 15
  },
  {
   "cell_type": "markdown",
   "id": "acf4e12cf6bc8617",
   "metadata": {},
   "source": [
    "# Apply TF-IDF to Model"
   ]
  },
  {
   "cell_type": "code",
   "id": "1c5d6dc5e6463a93",
   "metadata": {},
   "source": [
    "tfidf_vectorizer = TfidfVectorizer(min_df=5, stop_words=german_stop_words)\n",
    "embeddings = tfidf_vectorizer.fit_transform(reports)\n",
    "\n",
    "tfidf_model = BERTopic(nr_topics=75)\n",
    "tfidf_topics, tfidf_probs = tfidf_model.fit(reports, embeddings)"
   ],
   "outputs": [],
   "execution_count": null
  },
  {
   "cell_type": "code",
   "id": "8d0b492a8aa208e9",
   "metadata": {},
   "source": [
    "tfidf_model.get_topic_info()"
   ],
   "outputs": [],
   "execution_count": null
  }
 ],
 "metadata": {
  "kernelspec": {
   "display_name": "TextMiningNaziIdeology",
   "language": "python",
   "name": "python3"
  },
  "language_info": {
   "codemirror_mode": {
    "name": "ipython",
    "version": 3
   },
   "file_extension": ".py",
   "mimetype": "text/x-python",
   "name": "python",
   "nbconvert_exporter": "python",
   "pygments_lexer": "ipython3",
   "version": "3.9.16"
  }
 },
 "nbformat": 4,
 "nbformat_minor": 5
}
