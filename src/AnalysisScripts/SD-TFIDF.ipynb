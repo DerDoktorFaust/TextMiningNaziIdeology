{
 "cells": [
  {
   "cell_type": "code",
   "id": "initial_id",
   "metadata": {
    "collapsed": true,
    "ExecuteTime": {
     "end_time": "2024-05-18T02:37:46.514108Z",
     "start_time": "2024-05-18T02:37:46.510310Z"
    }
   },
   "source": [
    "###########################################################################\n",
    "# Author: Christopher Thomas Goodwin\n",
    "# Creation Date: 2024.05.16\n",
    "# Summary: Uses sklearn to explore the data of the NSHWE Stimmungs- und Lageberichte files\n",
    "#          using TF-IDF and then K-Means clustering\n",
    "###########################################################################"
   ],
   "outputs": [],
   "execution_count": 2
  },
  {
   "metadata": {
    "ExecuteTime": {
     "end_time": "2024-05-18T02:37:48.005591Z",
     "start_time": "2024-05-18T02:37:47.989559Z"
    }
   },
   "cell_type": "code",
   "source": [
    "#### Get all file names\n",
    "\n",
    "from pathlib import Path\n",
    "\n",
    "files = [] # holds file paths of all text files\n",
    "\n",
    "for file in Path(\"../../data/text\").glob(\"*.txt\"):\n",
    "    files.append(file.parent / file.name)\n",
    "\n",
    "n_files = len(files)\n",
    "print(n_files) # 750\n",
    "print(files[0]) # should have full path"
   ],
   "id": "feb5aa81c8755079",
   "outputs": [
    {
     "name": "stdout",
     "output_type": "stream",
     "text": [
      "750\n",
      "../../data/text/1943.02.04 - Meldungen aus dem Reich Cleaned.txt\n"
     ]
    }
   ],
   "execution_count": 3
  },
  {
   "metadata": {
    "ExecuteTime": {
     "end_time": "2024-05-18T02:37:50.038869Z",
     "start_time": "2024-05-18T02:37:49.884626Z"
    }
   },
   "cell_type": "code",
   "source": [
    "#### convert all text files into strings\n",
    "docs = [] # holds string version of each file (i.e. each text file converted into one string and stored here\n",
    "\n",
    "for file in files:\n",
    "    with open(file) as f:\n",
    "        contents = f.read()\n",
    "    docs.append(contents)\n",
    "    f.close()"
   ],
   "id": "1857f53849b2d6c9",
   "outputs": [],
   "execution_count": 4
  },
  {
   "metadata": {
    "ExecuteTime": {
     "end_time": "2024-05-18T02:37:57.172364Z",
     "start_time": "2024-05-18T02:37:52.732076Z"
    }
   },
   "cell_type": "code",
   "source": [
    "#### run TF-IDF\n",
    "from sklearn.feature_extraction.text import TfidfVectorizer\n",
    "import nltk\n",
    "from nltk.corpus import stopwords\n",
    "nltk.download('stopwords')\n",
    "\n",
    "german_stop_words = stopwords.words('german')\n",
    "additional_stop_words = [\"volk\", \"volksgemeinschaft\", \"1939\", \"1940\", \"1941\", \"1942\", \"1943\", \"1944\", \"1945\", \"deutsch\", \"bevölkerung\", \"ii\", \"iii\", \"iv\", \"v\", \"vi\", \"einzelmeldungen\", \"volksgenossen\", \"sei\", \"seien\", \"worden\", \"meldungen\", \"deutsche\", \"deutschen\", \"wegen\", \"wurde\", \"gif\", \"pro\", \"kg\", \"minusbox\", \"images\", \"rm\"]\n",
    "\n",
    "for i in range(0, 1946):\n",
    "    additional_stop_words.append(str(i))\n",
    "\n",
    "german_stop_words.extend(additional_stop_words)\n",
    "\n",
    "vectorizer = TfidfVectorizer(max_df=.90, min_df=5, stop_words=german_stop_words, use_idf=True, norm=None, lowercase=True, ngram_range=(1,3))\n",
    "transformed_documents = vectorizer.fit_transform(docs)\n",
    "transformed_documents_array = transformed_documents.toarray()\n",
    "print(len(transformed_documents_array)) # should match the number above to make sure we transformed all documents"
   ],
   "id": "94cae13bca1b5a5f",
   "outputs": [
    {
     "name": "stderr",
     "output_type": "stream",
     "text": [
      "[nltk_data] Downloading package stopwords to\n",
      "[nltk_data]     /Users/cgoodwin/nltk_data...\n",
      "[nltk_data]   Package stopwords is already up-to-date!\n"
     ]
    },
    {
     "name": "stdout",
     "output_type": "stream",
     "text": [
      "750\n"
     ]
    }
   ],
   "execution_count": 5
  },
  {
   "metadata": {
    "ExecuteTime": {
     "end_time": "2024-05-18T02:38:37.889370Z",
     "start_time": "2024-05-18T02:38:00.484613Z"
    }
   },
   "cell_type": "code",
   "source": [
    "#### output TF-IDF scores\n",
    "import pandas as pd\n",
    "\n",
    "Path(\"data/tf-idf_output\").mkdir(parents=True, exist_ok=True) # make directory if it doesn't already exist\n",
    "\n",
    "output_filenames = [str(file).replace(\".txt\", \".csv\").replace(\"../../data/text\", \"data/tf-idf_output\") for file in files]\n",
    "\n",
    "for counter, doc in enumerate(transformed_documents_array):\n",
    "    tf_idf_tuples = list(zip(vectorizer.get_feature_names_out(), doc))\n",
    "    one_doc_as_df = pd.DataFrame.from_records(tf_idf_tuples, columns=['term', 'score']).sort_values(by='score', ascending=False).reset_index(drop=True)\n",
    "    \n",
    "    one_doc_as_df.to_csv(output_filenames[counter])"
   ],
   "id": "c438354b70bbfb7b",
   "outputs": [],
   "execution_count": 6
  },
  {
   "metadata": {
    "ExecuteTime": {
     "end_time": "2024-05-18T02:39:17.026461Z",
     "start_time": "2024-05-18T02:39:14.340978Z"
    }
   },
   "cell_type": "code",
   "source": [
    "#### Get keywords\n",
    "\n",
    "feature_names = vectorizer.get_feature_names_out()\n",
    "dense = transformed_documents.todense()\n",
    "denselist = dense.tolist()\n",
    "\n",
    "all_keywords = []\n",
    "\n",
    "for doc in denselist:\n",
    "    x = 0\n",
    "    keywords = []\n",
    "    for word in doc:\n",
    "        if word > 0:\n",
    "            keywords.append(feature_names[x])\n",
    "        x += 1\n",
    "    all_keywords.append(keywords)"
   ],
   "id": "e7e77260b634e45b",
   "outputs": [],
   "execution_count": 7
  },
  {
   "metadata": {
    "ExecuteTime": {
     "end_time": "2024-05-18T03:42:18.197116Z",
     "start_time": "2024-05-18T03:41:16.385889Z"
    }
   },
   "cell_type": "code",
   "source": [
    "#### K-Means Clustering\n",
    "from sklearn.cluster import KMeans\n",
    "from sklearn import metrics\n",
    "from scipy.spatial.distance import cdist\n",
    "import matplotlib.pyplot as plt\n",
    "import numpy as np\n",
    "\n",
    "distortions = []\n",
    "inertias = []\n",
    "mapping1 = {}\n",
    "mapping2 = {}\n",
    "K = range(1, 50)\n",
    "\n",
    "for k in K:\n",
    "    kmeans_test_model = KMeans(n_clusters=k, init='k-means++', max_iter=100, n_init=1).fit(transformed_documents_array)\n",
    "    \n",
    "    distortions.append(sum(np.min(cdist(transformed_documents_array, kmeans_test_model.cluster_centers_, 'euclidean'), axis=1)) / transformed_documents_array.shape[0])\n",
    "    \n",
    "    inertias.append(kmeans_test_model.inertia_)\n",
    "    \n",
    "    mapping1[k] = sum(np.min(cdist(transformed_documents_array, kmeans_test_model.cluster_centers_, 'euclidean'), axis=1)) / transformed_documents_array.shape[0]\n",
    "    \n",
    "    mapping2[k] = kmeans_test_model.inertia_\n",
    "\n",
    "for key, val in mapping1.items():\n",
    "    print(f'{key} : {val}')\n",
    "    \n",
    "plt.plot(K, distortions, 'bx-')\n",
    "plt.xlabel('Values of K')\n",
    "plt.ylabel('Distortion')\n",
    "plt.title('Elbow Method of K-Means Clustering')\n",
    "plt.show()"
   ],
   "id": "6567333e6cb31297",
   "outputs": [
    {
     "name": "stdout",
     "output_type": "stream",
     "text": [
      "1 : 186.39287411482528\n",
      "2 : 184.9844367190886\n",
      "3 : 185.47144944595024\n",
      "4 : 183.10737693451088\n",
      "5 : 179.83117488234382\n",
      "6 : 182.42452428906566\n",
      "7 : 182.52403404689886\n",
      "8 : 177.97526901889267\n",
      "9 : 177.7249702646641\n",
      "10 : 176.86562281797117\n",
      "11 : 179.14057018928085\n",
      "12 : 179.32911629711205\n",
      "13 : 177.90021105356868\n",
      "14 : 178.19334769564463\n",
      "15 : 178.4815797798389\n",
      "16 : 175.15190395856885\n",
      "17 : 174.72784246278917\n",
      "18 : 177.02181582435503\n",
      "19 : 175.69434262189083\n",
      "20 : 172.2941001659219\n",
      "21 : 171.71628086956358\n",
      "22 : 170.96949191962614\n",
      "23 : 174.60784593172815\n",
      "24 : 170.42779892948874\n",
      "25 : 169.30756348208513\n",
      "26 : 168.557960999006\n",
      "27 : 173.04878325787564\n",
      "28 : 171.74804210636694\n",
      "29 : 171.47114392850955\n",
      "30 : 167.1675775612189\n",
      "31 : 171.5929893000327\n",
      "32 : 166.5921210763113\n",
      "33 : 167.06471973034016\n",
      "34 : 168.27861132462687\n",
      "35 : 169.07600852597497\n",
      "36 : 168.46941720051143\n",
      "37 : 168.15097222684327\n",
      "38 : 167.53190449593995\n",
      "39 : 164.2051862376332\n",
      "40 : 163.2679862565026\n",
      "41 : 163.40892071327764\n",
      "42 : 162.42699857643044\n",
      "43 : 166.37974586306208\n",
      "44 : 161.900281463778\n",
      "45 : 164.8173005879296\n",
      "46 : 164.65217910079548\n",
      "47 : 163.90136701619915\n",
      "48 : 163.55800537726546\n",
      "49 : 160.83706710089515\n"
     ]
    },
    {
     "data": {
      "text/plain": [
       "<Figure size 640x480 with 1 Axes>"
      ],
      "image/png": "[encoded data removed]"
     },
     "metadata": {},
     "output_type": "display_data"
    }
   ],
   "execution_count": 17
  },
  {
   "metadata": {},
   "cell_type": "code",
   "source": [
    "#### Write out the clusters based on optimal k-value\n",
    "true_k = 75\n",
    "\n",
    "kmeans_model = KMeans(n_clusters=true_k, init='k-means++', max_iter=100, n_init=1)\n",
    "\n",
    "kmeans_model.fit(transformed_documents)\n",
    "\n",
    "order_centroids = kmeans_model.cluster_centers_.argsort()[:, ::-1]\n",
    "\n",
    "terms = vectorizer.get_feature_names_out()\n",
    "\n",
    "with open (\"data/kmeans_output/kmeans_results.txt\", 'w') as f:\n",
    "    for i in range(true_k):\n",
    "        f.write(f\"Cluster {i}\\n\")\n",
    "        for ind in order_centroids[i, :10]:\n",
    "            f.write(f\"{terms[ind]}\\n\")\n",
    "        f.write(\"\\n\")\n",
    "        f.write(\"\\n\")"
   ],
   "id": "2195567b97a77da4",
   "outputs": [],
   "execution_count": null
  }
 ],
 "metadata": {
  "kernelspec": {
   "display_name": "Python 3",
   "language": "python",
   "name": "python3"
  },
  "language_info": {
   "codemirror_mode": {
    "name": "ipython",
    "version": 2
   },
   "file_extension": ".py",
   "mimetype": "text/x-python",
   "name": "python",
   "nbconvert_exporter": "python",
   "pygments_lexer": "ipython2",
   "version": "2.7.6"
  }
 },
 "nbformat": 4,
 "nbformat_minor": 5
}
